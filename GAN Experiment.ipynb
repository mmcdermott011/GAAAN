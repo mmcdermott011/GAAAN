{
 "cells": [
  {
   "cell_type": "markdown",
   "metadata": {},
   "source": [
    "**ALBUM ART GAN WORKBOOK**\n",
    "*by Michael McDermott"
   ]
  },
  {
   "cell_type": "code",
   "execution_count": 105,
   "metadata": {
    "scrolled": true
   },
   "outputs": [],
   "source": [
    "import pandas as pd\n",
    "import numpy as np\n",
    "import sklearn as sk\n",
    "import os.path\n",
    "import requests\n"
   ]
  },
  {
   "cell_type": "code",
   "execution_count": 106,
   "metadata": {
    "scrolled": false
   },
   "outputs": [
    {
     "name": "stdout",
     "output_type": "stream",
     "text": [
      "Original Size of dataframe (64064, 8)\n",
      "Size of dataframe after dropping duplicates (53097, 8)\n",
      "Unnamed: 0       False\n",
      "album_id         False\n",
      "link_to_image    False\n",
      "album_name       False\n",
      "artist_name      False\n",
      "artist_id        False\n",
      "genre            False\n",
      "year             False\n",
      "dtype: bool\n"
     ]
    }
   ],
   "source": [
    "df = pd.read_csv(\"masterAlbumList.csv\")\n",
    "col_names = ['album_id', 'link_to_image', 'album_name', 'artist_name', 'artist_id', 'genre', 'year']\n",
    "\n",
    "#first 58 lines were unnecessary appendages of the column legend\n",
    "#df = df.drop(df.index[:58])\n",
    "\n",
    "#see original size of dataframe\n",
    "print(\"Original Size of dataframe\",df.shape)\n",
    "\n",
    "#csv list only eliminated duplicates based off of album id, but not based off album name\n",
    "#ive found some artists have the same album uploaded more than once on their page, but the album has different ids\n",
    "#we need to get rid of duplicates based on the album name and artist\n",
    "b = df.drop_duplicates(subset=['album_name', 'artist_name'], keep=\"first\")\n",
    "\n",
    "#lets see how many there are now,\n",
    "print(\"Size of dataframe after dropping duplicates\",b.shape)\n",
    "#check if there are any null or NaN values \n",
    "print(b.isnull().any())\n"
   ]
  },
  {
   "cell_type": "code",
   "execution_count": 108,
   "metadata": {},
   "outputs": [
    {
     "name": "stdout",
     "output_type": "stream",
     "text": [
      "True\n",
      "Number of unique artists:  7345\n",
      "Number of unique genres:  525\n",
      "['alternative emo' 'anthem emo' 'swancore' 'unknown' 'albany ny indie'\n",
      " 'euphoric hardstyle' 'metallic hardcore' 'dreamo' 'emo' 'pop punk'\n",
      " 'neon pop punk']\n"
     ]
    },
    {
     "data": {
      "text/plain": [
       "(8, 8)"
      ]
     },
     "execution_count": 108,
     "metadata": {},
     "output_type": "execute_result"
    }
   ],
   "source": [
    "#use this to check if there is a specific artist in the dataset\n",
    "print(\"The Black Keys\" in b[\"artist_name\"].values)\n",
    "\n",
    "#number of different artists\n",
    "unique_artists = b[\"artist_name\"].unique()\n",
    "print(\"Number of unique artists: \",len(unique_artists))\n",
    "\n",
    "#use this to see what different genres there are in the dataset\n",
    "unique_genres = b[\"genre\"].unique()\n",
    "#number of different genres\n",
    "print(\"Number of unique genres: \",len(unique_genres))\n",
    "#theres a lot so i just wanted to see the first 10\n",
    "print(unique_genres[ :11])\n",
    "\n",
    "\n",
    "#okay, now if we want to create separate dataframes of subsets, such as genre, or year, or artist, we can do so\n",
    "swancore = b.loc[b['genre'] == 'swancore']\n",
    "swancore.shape"
   ]
  },
  {
   "cell_type": "code",
   "execution_count": 104,
   "metadata": {},
   "outputs": [
    {
     "name": "stdout",
     "output_type": "stream",
     "text": [
      "done\n"
     ]
    }
   ],
   "source": [
    "#here we define a function that will iterate through your dataframe,\n",
    "#visit the images, and download those images to the folder specified\n",
    "#if the path to folder is not specified, it will create/download to a directory called \"albumartimages\"\n",
    "\n",
    "def getAndSaveAlbumArts(df, path = 'albumartimages/'):\n",
    "    isdir = os.path.isdir(path)\n",
    "    df = df[['link_to_image','album_name','artist_name']]\n",
    "    if isdir is not True:\n",
    "        os.mkdir(path)\n",
    "    for i, j in df.iterrows():\n",
    "        fileName =j[2]+ \"-\" + j[1] + \".jpg\"\n",
    "        fileName = fileName.replace(r'/', ' ')\n",
    "        url = j[0]\n",
    "        r = requests.get(url)\n",
    "        fullPath = path + fileName\n",
    "        with open(fullPath, 'wb') as f:\n",
    "            f.write(r.content)\n",
    "    print(\"done\")\n",
    "\n",
    "    \n",
    "getAndSaveAlbumArts(swancore)"
   ]
  }
 ],
 "metadata": {
  "kernelspec": {
   "display_name": "Python 3",
   "language": "python",
   "name": "python3"
  },
  "language_info": {
   "codemirror_mode": {
    "name": "ipython",
    "version": 3
   },
   "file_extension": ".py",
   "mimetype": "text/x-python",
   "name": "python",
   "nbconvert_exporter": "python",
   "pygments_lexer": "ipython3",
   "version": "3.7.6"
  }
 },
 "nbformat": 4,
 "nbformat_minor": 4
}
